{
  "nbformat": 4,
  "nbformat_minor": 0,
  "metadata": {
    "colab": {
      "name": "Proyek_Ketiga.ipynb",
      "provenance": [],
      "collapsed_sections": []
    },
    "kernelspec": {
      "name": "python3",
      "display_name": "Python 3"
    },
    "language_info": {
      "name": "python"
    },
    "accelerator": "GPU"
  },
  "cells": [
    {
      "cell_type": "markdown",
      "metadata": {
        "id": "n7xrHL2wL6WQ"
      },
      "source": [
        "# PROYEK KLASIFIKASI GAMBAR\n",
        "### Image Classification Model Deployment\n",
        "Disusun Oleh: Muchammad Malik"
      ]
    },
    {
      "cell_type": "markdown",
      "metadata": {
        "id": "essjgn3uMKdk"
      },
      "source": [
        "Notes:\n",
        "1. Dataset diambil dari Kaggle, pada tanggal 15 Juli 2021, dengan link: https://www.kaggle.com/ashishsaxena2209/animal-image-datasetdog-cat-and-panda\n",
        "2. Untuk load dataset langsung dari runtime, input username dan password akun Kaggle\n",
        "3. Akurasi terbesar pada percobaan terakhir adalah 0.9351 untuk data training dan 0.9267 untuk data validasi\n",
        " "
      ]
    },
    {
      "cell_type": "code",
      "metadata": {
        "colab": {
          "base_uri": "https://localhost:8080/"
        },
        "id": "4-eGBQjOoQbA",
        "outputId": "03e01842-5e31-4072-a23e-1661ffea3afb"
      },
      "source": [
        "import os\n",
        "os.environ['KAGGLE_USERNAME'] = #INPUT USERNAME\n",
        "os.environ['KAGGLE_KEY'] = #INPUT PASSWORD\n",
        "\n",
        "!kaggle datasets download -d ashishsaxena2209/animal-image-datasetdog-cat-and-panda"
      ],
      "execution_count": 1,
      "outputs": [
        {
          "output_type": "stream",
          "text": [
            "Downloading animal-image-datasetdog-cat-and-panda.zip to /content\n",
            "100% 375M/376M [00:12<00:00, 39.0MB/s]\n",
            "100% 376M/376M [00:12<00:00, 32.2MB/s]\n"
          ],
          "name": "stdout"
        }
      ]
    },
    {
      "cell_type": "code",
      "metadata": {
        "id": "BlSTVjTmoRQR"
      },
      "source": [
        "!unzip -q animal-image-datasetdog-cat-and-panda.zip -d ."
      ],
      "execution_count": 2,
      "outputs": []
    },
    {
      "cell_type": "code",
      "metadata": {
        "colab": {
          "base_uri": "https://localhost:8080/"
        },
        "id": "2Q4PwaZjpDcV",
        "outputId": "ea5989f6-ebbf-41ff-e352-49aafd72b4ab"
      },
      "source": [
        "os.listdir('/content/animals')"
      ],
      "execution_count": 3,
      "outputs": [
        {
          "output_type": "execute_result",
          "data": {
            "text/plain": [
              "['animals', 'dogs', 'images', 'cats', 'panda']"
            ]
          },
          "metadata": {
            "tags": []
          },
          "execution_count": 3
        }
      ]
    },
    {
      "cell_type": "code",
      "metadata": {
        "colab": {
          "base_uri": "https://localhost:8080/"
        },
        "id": "qPawWLxapJEu",
        "outputId": "1e4d4cfb-c7e8-4125-a61a-ff772af4d078"
      },
      "source": [
        "os.listdir('/content/animals/animals')"
      ],
      "execution_count": 4,
      "outputs": [
        {
          "output_type": "execute_result",
          "data": {
            "text/plain": [
              "['dogs', 'cats', 'panda']"
            ]
          },
          "metadata": {
            "tags": []
          },
          "execution_count": 4
        }
      ]
    },
    {
      "cell_type": "code",
      "metadata": {
        "colab": {
          "base_uri": "https://localhost:8080/"
        },
        "id": "boYFeq6IpNB-",
        "outputId": "b32e1514-74e5-4537-b63a-c160f9cb3ff7"
      },
      "source": [
        "#Pengecekan jumlah file\n",
        "print('cats:', len(os.listdir('/content/animals/animals/cats')))\n",
        "print('dogs:',len(os.listdir('/content/animals/animals/dogs')))\n",
        "print('panda:',len(os.listdir('/content/animals/animals/panda')))"
      ],
      "execution_count": 5,
      "outputs": [
        {
          "output_type": "stream",
          "text": [
            "cats: 1000\n",
            "dogs: 1000\n",
            "panda: 1000\n"
          ],
          "name": "stdout"
        }
      ]
    },
    {
      "cell_type": "code",
      "metadata": {
        "id": "q_xC4W6Mo6q2"
      },
      "source": [
        "base_dir= '/content/animals/animals/'"
      ],
      "execution_count": 6,
      "outputs": []
    },
    {
      "cell_type": "code",
      "metadata": {
        "colab": {
          "base_uri": "https://localhost:8080/"
        },
        "id": "euuF3Ydxph4Y",
        "outputId": "91bba82e-59b9-445f-c0d0-542d0e8c8cdc"
      },
      "source": [
        "#pemisahan file menjadi training file dan validation file\n",
        "!pip install split-folders tqdm #instalasi splitfolder\n",
        "\n",
        "import splitfolders\n",
        "base_dir = '/content/animals/animals/' \n",
        "splitfolders.ratio(base_dir, output=base_dir, ratio=(.8, .2))"
      ],
      "execution_count": 7,
      "outputs": [
        {
          "output_type": "stream",
          "text": [
            "Collecting split-folders\n",
            "  Downloading https://files.pythonhosted.org/packages/b8/5f/3c2b2f7ea5e047c8cdc3bb00ae582c5438fcdbbedcc23b3cc1c2c7aae642/split_folders-0.4.3-py3-none-any.whl\n",
            "Requirement already satisfied: tqdm in /usr/local/lib/python3.7/dist-packages (4.41.1)\n",
            "Installing collected packages: split-folders\n",
            "Successfully installed split-folders-0.4.3\n"
          ],
          "name": "stdout"
        },
        {
          "output_type": "stream",
          "text": [
            "Copying files: 3000 files [00:00, 3029.62 files/s]\n"
          ],
          "name": "stderr"
        }
      ]
    },
    {
      "cell_type": "code",
      "metadata": {
        "colab": {
          "base_uri": "https://localhost:8080/"
        },
        "id": "l2QIQddAqMBq",
        "outputId": "780faecc-f405-470d-b7ab-357d85c519ff"
      },
      "source": [
        "os.listdir('/content/animals/animals/')"
      ],
      "execution_count": 8,
      "outputs": [
        {
          "output_type": "execute_result",
          "data": {
            "text/plain": [
              "['train', 'dogs', 'cats', 'panda', 'val']"
            ]
          },
          "metadata": {
            "tags": []
          },
          "execution_count": 8
        }
      ]
    },
    {
      "cell_type": "code",
      "metadata": {
        "colab": {
          "base_uri": "https://localhost:8080/"
        },
        "id": "lM2lPDp3qb90",
        "outputId": "010c3f1e-a447-4ecb-deed-680c5e76ccca"
      },
      "source": [
        "os.listdir('/content/animals/animals/train')\n",
        "os.listdir('/content/animals/animals/val')"
      ],
      "execution_count": 9,
      "outputs": [
        {
          "output_type": "execute_result",
          "data": {
            "text/plain": [
              "['dogs', 'cats', 'panda']"
            ]
          },
          "metadata": {
            "tags": []
          },
          "execution_count": 9
        }
      ]
    },
    {
      "cell_type": "code",
      "metadata": {
        "colab": {
          "base_uri": "https://localhost:8080/"
        },
        "id": "GYOLEoylrxOz",
        "outputId": "96eafcb6-c60a-40dd-8937-b18becedcdc4"
      },
      "source": [
        "#Pengecekan Jumlah data training dan validation\n",
        "train_panda = os.listdir('/content/animals/animals/train/panda')\n",
        "train_cats = os.listdir('/content/animals/animals/train/cats')\n",
        "train_dogs = os.listdir('/content/animals/animals/train/dogs')\n",
        "val_panda = os.listdir('/content/animals/animals/val/panda')\n",
        "val_cats = os.listdir('/content/animals/animals/val/cats')\n",
        "val_dogs = os.listdir('/content/animals/animals/val/dogs')\n",
        "\n",
        "print('Jumlah data training panda:', len(train_panda))\n",
        "print('Jumlah data training cats:', len(train_cats))\n",
        "print('Jumlah data training dogs:', len(train_dogs))\n",
        "print('Jumlah data validation panda:', len(val_panda))\n",
        "print('Jumlah data validation cats:', len(val_cats))\n",
        "print('Jumlah data validation dogs:', len(val_dogs))"
      ],
      "execution_count": 10,
      "outputs": [
        {
          "output_type": "stream",
          "text": [
            "Jumlah data training panda: 800\n",
            "Jumlah data training cats: 800\n",
            "Jumlah data training dogs: 800\n",
            "Jumlah data validation panda: 200\n",
            "Jumlah data validation cats: 200\n",
            "Jumlah data validation dogs: 200\n"
          ],
          "name": "stdout"
        }
      ]
    },
    {
      "cell_type": "code",
      "metadata": {
        "id": "W8xPniE7oU0T"
      },
      "source": [
        "import numpy as np\n",
        "import pandas as pd\n",
        "import tensorflow as tf\n",
        "from tensorflow.keras.optimizers import RMSprop\n",
        "from tensorflow.keras.preprocessing.image import ImageDataGenerator"
      ],
      "execution_count": 11,
      "outputs": []
    },
    {
      "cell_type": "code",
      "metadata": {
        "id": "7IrCeK8utNm6"
      },
      "source": [
        "data_training_generator = ImageDataGenerator(\n",
        "                    rescale=1./255,\n",
        "                    rotation_range=20,\n",
        "                    horizontal_flip=True,\n",
        "                    shear_range = 0.2,\n",
        "                    fill_mode = 'nearest')\n",
        "\n",
        "data_testing_generator = ImageDataGenerator(\n",
        "                    rescale=1./255,\n",
        "                    rotation_range=20,\n",
        "                    horizontal_flip=True,\n",
        "                    shear_range = 0.2,\n",
        "                    fill_mode = 'nearest')"
      ],
      "execution_count": 12,
      "outputs": []
    },
    {
      "cell_type": "code",
      "metadata": {
        "id": "xUI6lnqlt7BM"
      },
      "source": [
        "#inisiasi variabel data training dan data testing\n",
        "train_dir = os.path.join(base_dir, 'train')\n",
        "test_dir = os.path.join(base_dir, 'val')"
      ],
      "execution_count": 13,
      "outputs": []
    },
    {
      "cell_type": "code",
      "metadata": {
        "colab": {
          "base_uri": "https://localhost:8080/"
        },
        "id": "_LDknEkBtZgZ",
        "outputId": "2ad99dda-e7de-43f9-d031-1cb1c370c858"
      },
      "source": [
        "training_generator = data_training_generator.flow_from_directory(\n",
        "        train_dir,  # direktori data training\n",
        "        target_size=(100, 100),  # mengubah resolusi seluruh gambar menjadi 150x150 piksel\n",
        "        batch_size=9,\n",
        "        class_mode='categorical')\n",
        "\n",
        "testing_generator = data_testing_generator.flow_from_directory(\n",
        "        test_dir, # direktori data testing\n",
        "        target_size=(100, 100), # mengubah resolusi seluruh gambar menjadi 150x150 piksel\n",
        "        batch_size=9, \n",
        "        class_mode='categorical')\n",
        "\n",
        "#direktori kelas\n",
        "training_generator.class_indices"
      ],
      "execution_count": 14,
      "outputs": [
        {
          "output_type": "stream",
          "text": [
            "Found 2400 images belonging to 3 classes.\n",
            "Found 600 images belonging to 3 classes.\n"
          ],
          "name": "stdout"
        },
        {
          "output_type": "execute_result",
          "data": {
            "text/plain": [
              "{'cats': 0, 'dogs': 1, 'panda': 2}"
            ]
          },
          "metadata": {
            "tags": []
          },
          "execution_count": 14
        }
      ]
    },
    {
      "cell_type": "code",
      "metadata": {
        "colab": {
          "base_uri": "https://localhost:8080/"
        },
        "id": "55U4DSF53qk9",
        "outputId": "f8e9242c-c5c7-4f5f-9753-402161fc0f5e"
      },
      "source": [
        "from tensorflow.keras.layers import Input\n",
        "from tensorflow.keras.applications import ResNet152V2\n",
        "\n",
        "#Penyusunan arsitektur neural network menggunakan transfer learning model ResNet152V2\n",
        "model = tf.keras.models.Sequential([\n",
        "    ResNet152V2(weights=\"imagenet\", include_top=False, input_tensor=Input(shape=(100, 100, 3))),\n",
        "    tf.keras.layers.Conv2D(64, (3,3), activation='relu'),\n",
        "    tf.keras.layers.MaxPooling2D(2,2), \n",
        "    #tf.keras.layers.Dropout(0.3), \n",
        "    tf.keras.layers.Flatten(),\n",
        "    tf.keras.layers.Dense(512, activation='relu'),\n",
        "    tf.keras.layers.Dropout(0.3),\n",
        "    tf.keras.layers.Dense(3, activation='softmax', name='class_output') \n",
        "      #fungsi aktivasi softmax cocok untuk data yang jumlah kelasnya lebih dari 2\n",
        "])\n",
        "model.layers[0].trainable = False\n",
        "\n",
        "#ilustrasi model\n",
        "model.summary()\n",
        "\n",
        "#Pemilihan loss, optimizer, dan metrics\n",
        "model.compile(loss='categorical_crossentropy', #data bersifat multiclass\n",
        "              optimizer='adam',\n",
        "              metrics=['accuracy'])\n",
        "\n",
        "#menghentikan training ketika akurasi mencapai 92% dengan callback\n",
        "class myCallback(tf.keras.callbacks.Callback):\n",
        "  def on_epoch_end(self, epoch, logs={}):\n",
        "    if(logs.get('accuracy')>0.92 and logs.get('val_accuracy')>0.92):\n",
        "      print(\"\\nAkurasi Training dan validasi telah mencapai >92%!\")\n",
        "      self.model.stop_training = True\n",
        "\n",
        "history = model.fit(\n",
        "      training_generator, #menampilkan akurasi data training\n",
        "      steps_per_epoch=50,  # jumlah steps tiap epoch data training\n",
        "      epochs=100, #jumlah epoch keseluruhan\n",
        "      validation_data=testing_generator, # menampilkan akurasi data testing\n",
        "      validation_steps=50,  \n",
        "      verbose=1, #verbose bernilai 1 untuk menambah animasi loading \n",
        "      callbacks = myCallback()\n",
        "      )"
      ],
      "execution_count": 19,
      "outputs": [
        {
          "output_type": "stream",
          "text": [
            "Model: \"sequential_2\"\n",
            "_________________________________________________________________\n",
            "Layer (type)                 Output Shape              Param #   \n",
            "=================================================================\n",
            "resnet152v2 (Functional)     (None, 4, 4, 2048)        58331648  \n",
            "_________________________________________________________________\n",
            "conv2d (Conv2D)              (None, 2, 2, 64)          1179712   \n",
            "_________________________________________________________________\n",
            "max_pooling2d_9 (MaxPooling2 (None, 1, 1, 64)          0         \n",
            "_________________________________________________________________\n",
            "flatten_2 (Flatten)          (None, 64)                0         \n",
            "_________________________________________________________________\n",
            "dense_2 (Dense)              (None, 512)               33280     \n",
            "_________________________________________________________________\n",
            "dropout_2 (Dropout)          (None, 512)               0         \n",
            "_________________________________________________________________\n",
            "class_output (Dense)         (None, 3)                 1539      \n",
            "=================================================================\n",
            "Total params: 59,546,179\n",
            "Trainable params: 1,214,531\n",
            "Non-trainable params: 58,331,648\n",
            "_________________________________________________________________\n",
            "Epoch 1/100\n",
            "50/50 [==============================] - 24s 260ms/step - loss: 1.4255 - accuracy: 0.7511 - val_loss: 0.6817 - val_accuracy: 0.8533\n",
            "Epoch 2/100\n",
            "50/50 [==============================] - 10s 203ms/step - loss: 0.7030 - accuracy: 0.8111 - val_loss: 0.3113 - val_accuracy: 0.8600\n",
            "Epoch 3/100\n",
            "50/50 [==============================] - 10s 202ms/step - loss: 0.5014 - accuracy: 0.8333 - val_loss: 0.3846 - val_accuracy: 0.8556\n",
            "Epoch 4/100\n",
            "50/50 [==============================] - 10s 203ms/step - loss: 0.5579 - accuracy: 0.7889 - val_loss: 0.8651 - val_accuracy: 0.8133\n",
            "Epoch 5/100\n",
            "50/50 [==============================] - 10s 204ms/step - loss: 0.4751 - accuracy: 0.8467 - val_loss: 0.4625 - val_accuracy: 0.8644\n",
            "Epoch 6/100\n",
            "50/50 [==============================] - 10s 203ms/step - loss: 0.5178 - accuracy: 0.8244 - val_loss: 0.3704 - val_accuracy: 0.8489\n",
            "Epoch 7/100\n",
            "50/50 [==============================] - 10s 202ms/step - loss: 0.4254 - accuracy: 0.8467 - val_loss: 0.4256 - val_accuracy: 0.8511\n",
            "Epoch 8/100\n",
            "50/50 [==============================] - 10s 202ms/step - loss: 0.3830 - accuracy: 0.8267 - val_loss: 0.3767 - val_accuracy: 0.8556\n",
            "Epoch 9/100\n",
            "50/50 [==============================] - 10s 201ms/step - loss: 0.5282 - accuracy: 0.8111 - val_loss: 0.2901 - val_accuracy: 0.8711\n",
            "Epoch 10/100\n",
            "50/50 [==============================] - 10s 202ms/step - loss: 0.3887 - accuracy: 0.8400 - val_loss: 0.3725 - val_accuracy: 0.8356\n",
            "Epoch 11/100\n",
            "50/50 [==============================] - 10s 205ms/step - loss: 0.4358 - accuracy: 0.8702 - val_loss: 0.2787 - val_accuracy: 0.8778\n",
            "Epoch 12/100\n",
            "50/50 [==============================] - 10s 204ms/step - loss: 0.2625 - accuracy: 0.8822 - val_loss: 0.3776 - val_accuracy: 0.8867\n",
            "Epoch 13/100\n",
            "50/50 [==============================] - 10s 203ms/step - loss: 0.3894 - accuracy: 0.8578 - val_loss: 0.3043 - val_accuracy: 0.8756\n",
            "Epoch 14/100\n",
            "50/50 [==============================] - 10s 204ms/step - loss: 0.2552 - accuracy: 0.8867 - val_loss: 0.3243 - val_accuracy: 0.8600\n",
            "Epoch 15/100\n",
            "50/50 [==============================] - 10s 203ms/step - loss: 0.4139 - accuracy: 0.8658 - val_loss: 0.3233 - val_accuracy: 0.8800\n",
            "Epoch 16/100\n",
            "50/50 [==============================] - 10s 203ms/step - loss: 0.3857 - accuracy: 0.8667 - val_loss: 0.3483 - val_accuracy: 0.8867\n",
            "Epoch 17/100\n",
            "50/50 [==============================] - 10s 204ms/step - loss: 0.4086 - accuracy: 0.8658 - val_loss: 0.4442 - val_accuracy: 0.8511\n",
            "Epoch 18/100\n",
            "50/50 [==============================] - 10s 205ms/step - loss: 0.3151 - accuracy: 0.9022 - val_loss: 0.3665 - val_accuracy: 0.8756\n",
            "Epoch 19/100\n",
            "50/50 [==============================] - 10s 204ms/step - loss: 0.3175 - accuracy: 0.8733 - val_loss: 0.3006 - val_accuracy: 0.8800\n",
            "Epoch 20/100\n",
            "50/50 [==============================] - 10s 205ms/step - loss: 0.3005 - accuracy: 0.8800 - val_loss: 0.2579 - val_accuracy: 0.9133\n",
            "Epoch 21/100\n",
            "50/50 [==============================] - 10s 204ms/step - loss: 0.3298 - accuracy: 0.8800 - val_loss: 0.3485 - val_accuracy: 0.8844\n",
            "Epoch 22/100\n",
            "50/50 [==============================] - 10s 203ms/step - loss: 0.3203 - accuracy: 0.8725 - val_loss: 0.4299 - val_accuracy: 0.8756\n",
            "Epoch 23/100\n",
            "50/50 [==============================] - 10s 203ms/step - loss: 0.3414 - accuracy: 0.8635 - val_loss: 0.3099 - val_accuracy: 0.8622\n",
            "Epoch 24/100\n",
            "50/50 [==============================] - 10s 203ms/step - loss: 0.2718 - accuracy: 0.8911 - val_loss: 0.3435 - val_accuracy: 0.8578\n",
            "Epoch 25/100\n",
            "50/50 [==============================] - 10s 203ms/step - loss: 0.3011 - accuracy: 0.9022 - val_loss: 0.3160 - val_accuracy: 0.8889\n",
            "Epoch 26/100\n",
            "50/50 [==============================] - 10s 204ms/step - loss: 0.3430 - accuracy: 0.8702 - val_loss: 0.3773 - val_accuracy: 0.8644\n",
            "Epoch 27/100\n",
            "50/50 [==============================] - 10s 205ms/step - loss: 0.2804 - accuracy: 0.9000 - val_loss: 0.3433 - val_accuracy: 0.8956\n",
            "Epoch 28/100\n",
            "50/50 [==============================] - 10s 207ms/step - loss: 0.3012 - accuracy: 0.9067 - val_loss: 0.3189 - val_accuracy: 0.8667\n",
            "Epoch 29/100\n",
            "50/50 [==============================] - 10s 204ms/step - loss: 0.3427 - accuracy: 0.8800 - val_loss: 0.2917 - val_accuracy: 0.8622\n",
            "Epoch 30/100\n",
            "50/50 [==============================] - 10s 204ms/step - loss: 0.3745 - accuracy: 0.8756 - val_loss: 0.3585 - val_accuracy: 0.8778\n",
            "Epoch 31/100\n",
            "50/50 [==============================] - 10s 204ms/step - loss: 0.2848 - accuracy: 0.8667 - val_loss: 0.3091 - val_accuracy: 0.8800\n",
            "Epoch 32/100\n",
            "50/50 [==============================] - 10s 205ms/step - loss: 0.2645 - accuracy: 0.9044 - val_loss: 0.3033 - val_accuracy: 0.8756\n",
            "Epoch 33/100\n",
            "50/50 [==============================] - 10s 206ms/step - loss: 0.3154 - accuracy: 0.9178 - val_loss: 0.3854 - val_accuracy: 0.8711\n",
            "Epoch 34/100\n",
            "50/50 [==============================] - 10s 205ms/step - loss: 0.3259 - accuracy: 0.9089 - val_loss: 0.3429 - val_accuracy: 0.8756\n",
            "Epoch 35/100\n",
            "50/50 [==============================] - 10s 204ms/step - loss: 0.2904 - accuracy: 0.8756 - val_loss: 0.2550 - val_accuracy: 0.9000\n",
            "Epoch 36/100\n",
            "50/50 [==============================] - 10s 206ms/step - loss: 0.3858 - accuracy: 0.8933 - val_loss: 0.3822 - val_accuracy: 0.8600\n",
            "Epoch 37/100\n",
            "50/50 [==============================] - 10s 205ms/step - loss: 0.2727 - accuracy: 0.9133 - val_loss: 0.3535 - val_accuracy: 0.8956\n",
            "Epoch 38/100\n",
            "50/50 [==============================] - 10s 207ms/step - loss: 0.2442 - accuracy: 0.9178 - val_loss: 0.3195 - val_accuracy: 0.8867\n",
            "Epoch 39/100\n",
            "50/50 [==============================] - 10s 204ms/step - loss: 0.2355 - accuracy: 0.9083 - val_loss: 0.2758 - val_accuracy: 0.8867\n",
            "Epoch 40/100\n",
            "50/50 [==============================] - 10s 204ms/step - loss: 0.1964 - accuracy: 0.9311 - val_loss: 0.3358 - val_accuracy: 0.8800\n",
            "Epoch 41/100\n",
            "50/50 [==============================] - 10s 204ms/step - loss: 0.3620 - accuracy: 0.8933 - val_loss: 0.2750 - val_accuracy: 0.8778\n",
            "Epoch 42/100\n",
            "50/50 [==============================] - 10s 205ms/step - loss: 0.2491 - accuracy: 0.9089 - val_loss: 0.3095 - val_accuracy: 0.8978\n",
            "Epoch 43/100\n",
            "50/50 [==============================] - 10s 205ms/step - loss: 0.2793 - accuracy: 0.9067 - val_loss: 0.2734 - val_accuracy: 0.9111\n",
            "Epoch 44/100\n",
            "50/50 [==============================] - 10s 204ms/step - loss: 0.2852 - accuracy: 0.9222 - val_loss: 0.2756 - val_accuracy: 0.9133\n",
            "Epoch 45/100\n",
            "50/50 [==============================] - 10s 205ms/step - loss: 0.2458 - accuracy: 0.9244 - val_loss: 0.3566 - val_accuracy: 0.8689\n",
            "Epoch 46/100\n",
            "50/50 [==============================] - 10s 204ms/step - loss: 0.2237 - accuracy: 0.9351 - val_loss: 0.2003 - val_accuracy: 0.9267\n",
            "\n",
            "Akurasi Training dan validasi telah mencapai >92%!\n"
          ],
          "name": "stdout"
        }
      ]
    },
    {
      "cell_type": "code",
      "metadata": {
        "colab": {
          "base_uri": "https://localhost:8080/",
          "height": 295
        },
        "id": "mycHiObmY7vr",
        "outputId": "a891cddf-f0ae-4f89-9eb1-d6a5c1a4c0eb"
      },
      "source": [
        "import matplotlib.pyplot as plt\n",
        "\n",
        "plt.plot(history.history['accuracy'])\n",
        "plt.plot(history.history['val_accuracy'])\n",
        "plt.title('model accuracy')\n",
        "plt.ylabel('accuracy')\n",
        "plt.xlabel('epoch')\n",
        "plt.legend(['train', 'test'], loc='upper left')\n",
        "plt.show()"
      ],
      "execution_count": 24,
      "outputs": [
        {
          "output_type": "display_data",
          "data": {
            "image/png": "[encoded data removed]",
            "text/plain": [
              "<Figure size 432x288 with 1 Axes>"
            ]
          },
          "metadata": {
            "tags": [],
            "needs_background": "light"
          }
        }
      ]
    },
    {
      "cell_type": "code",
      "metadata": {
        "colab": {
          "base_uri": "https://localhost:8080/",
          "height": 295
        },
        "id": "ro-BC-PrY_E8",
        "outputId": "156a4b70-70ce-41f0-d1f3-bf8265563344"
      },
      "source": [
        "plt.plot(history.history['loss'])\n",
        "plt.plot(history.history['val_loss'])\n",
        "plt.title('model loss')\n",
        "plt.ylabel('loss')\n",
        "plt.xlabel('epoch')\n",
        "plt.legend(['train', 'test'], loc='upper left')\n",
        "plt.show()"
      ],
      "execution_count": 25,
      "outputs": [
        {
          "output_type": "display_data",
          "data": {
            "image/png": "[encoded data removed]",
            "text/plain": [
              "<Figure size 432x288 with 1 Axes>"
            ]
          },
          "metadata": {
            "tags": [],
            "needs_background": "light"
          }
        }
      ]
    },
    {
      "cell_type": "code",
      "metadata": {
        "colab": {
          "base_uri": "https://localhost:8080/"
        },
        "id": "ilhrZxFxHkjT",
        "outputId": "e98136c3-66b9-4f13-d7fb-b628e7329640"
      },
      "source": [
        "model"
      ],
      "execution_count": 26,
      "outputs": [
        {
          "output_type": "execute_result",
          "data": {
            "text/plain": [
              "<tensorflow.python.keras.engine.sequential.Sequential at 0x7f610bb2cc90>"
            ]
          },
          "metadata": {
            "tags": []
          },
          "execution_count": 26
        }
      ]
    },
    {
      "cell_type": "code",
      "metadata": {
        "colab": {
          "base_uri": "https://localhost:8080/"
        },
        "id": "-XP32-odJ-YZ",
        "outputId": "5a9cd53d-a83b-402f-bbf3-71a8188792f7"
      },
      "source": [
        "# Konversi model.\n",
        "converter = tf.lite.TFLiteConverter.from_keras_model(model)\n",
        "tflite_model = converter.convert()"
      ],
      "execution_count": 27,
      "outputs": [
        {
          "output_type": "stream",
          "text": [
            "/usr/local/lib/python3.7/dist-packages/tensorflow/python/keras/utils/generic_utils.py:497: CustomMaskWarning: Custom mask layers require a config and must override get_config. When loading, the custom mask layer must be passed to the custom_objects argument.\n",
            "  category=CustomMaskWarning)\n"
          ],
          "name": "stderr"
        },
        {
          "output_type": "stream",
          "text": [
            "INFO:tensorflow:Assets written to: /tmp/tmp66f40mi9/assets\n"
          ],
          "name": "stdout"
        }
      ]
    },
    {
      "cell_type": "code",
      "metadata": {
        "id": "heogaGO0KCJq"
      },
      "source": [
        "with tf.io.gfile.GFile('model.tflite', 'wb') as f:\n",
        "  f.write(tflite_model)"
      ],
      "execution_count": 28,
      "outputs": []
    },
    {
      "cell_type": "code",
      "metadata": {
        "id": "nuM5qAQsLlgK"
      },
      "source": [
        ""
      ],
      "execution_count": null,
      "outputs": []
    }
  ]
}
